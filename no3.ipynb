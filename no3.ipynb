{
 "cells": [
  {
   "cell_type": "code",
   "execution_count": 1,
   "id": "c2d586c7-6986-4e38-b0ef-09228f146c07",
   "metadata": {},
   "outputs": [
    {
     "name": "stdout",
     "output_type": "stream",
     "text": [
      "220000000.0\n",
      "tahun 1\n",
      "242000000.0\n",
      "tahun 2\n",
      "266200000.0\n",
      "tahun 3\n",
      "292820000.0\n",
      "tahun 4\n",
      "322102000.0\n",
      "tahun 5\n",
      "354312200.0\n",
      "tahun 6\n",
      "389743420.0\n",
      "tahun 7\n",
      "428717762.0\n",
      "tahun 8\n"
     ]
    }
   ],
   "source": [
    "saldoawal=200000000\n",
    "tahun=0\n",
    "while saldoawal<=400000000:\n",
    " bunga=saldoawal*0.1\n",
    " saldoawal=saldoawal+bunga\n",
    " tahun=tahun+1\n",
    " print(saldoawal)\n",
    " print(\"tahun\",tahun)"
   ]
  },
  {
   "cell_type": "code",
   "execution_count": null,
   "id": "db098f89-9b89-4a03-b507-0fc98bf14a0a",
   "metadata": {},
   "outputs": [],
   "source": []
  }
 ],
 "metadata": {
  "kernelspec": {
   "display_name": "Python [conda env:base] *",
   "language": "python",
   "name": "conda-base-py"
  },
  "language_info": {
   "codemirror_mode": {
    "name": "ipython",
    "version": 3
   },
   "file_extension": ".py",
   "mimetype": "text/x-python",
   "name": "python",
   "nbconvert_exporter": "python",
   "pygments_lexer": "ipython3",
   "version": "3.12.7"
  }
 },
 "nbformat": 4,
 "nbformat_minor": 5
}
