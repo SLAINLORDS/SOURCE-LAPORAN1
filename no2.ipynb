{
 "cells": [
  {
   "cell_type": "code",
   "execution_count": 1,
   "id": "7953430e-f60c-41af-88b5-9190ffc7d22b",
   "metadata": {},
   "outputs": [
    {
     "name": "stdout",
     "output_type": "stream",
     "text": [
      "Kasus Pertama:\n",
      "keuntungan Gerald dalam kasus ini saat emas berharga 685000 adalah =  875000\n",
      "keuntungan Gerald dalam persen saat emas berharga 685000 adalah =  5.38 %\n",
      "Kasus kedua:\n",
      "keuntungan Gerald dalam kasus ini saat emas berharga 715000 adalah =  2075000\n",
      "keuntungan Gerald dalam persen  saat emas berharga 715000 adalah =  7.82 %\n"
     ]
    }
   ],
   "source": [
    "emas1 = 650000\n",
    "emas2 = 685000\n",
    "emas3 = 715000\n",
    "harga1 = emas1*25\n",
    "harga2 = emas2*25\n",
    "harga3 = emas2*15\n",
    "harga4 = emas3*40\n",
    "modal1 = harga1\n",
    "modal2 = harga1 + harga3\n",
    "keuntungan1 = harga2-harga1\n",
    "keuntungan2 = harga4-modal2\n",
    "persen1 = (keuntungan1/modal1)*100\n",
    "persen2 = (keuntungan2/modal2)*100\n",
    "print (\"Kasus Pertama:\")\n",
    "print (\"keuntungan Gerald dalam kasus ini saat emas berharga 685000 adalah = \", keuntungan1)\n",
    "print (\"keuntungan Gerald dalam persen saat emas berharga 685000 adalah = \",round(persen1,2),\"%\")\n",
    "print (\"Kasus kedua:\")\n",
    "print (\"keuntungan Gerald dalam kasus ini saat emas berharga 715000 adalah = \", keuntungan2)\n",
    "print (\"keuntungan Gerald dalam persen  saat emas berharga 715000 adalah = \",round(persen2,2), \"%\")"
   ]
  },
  {
   "cell_type": "code",
   "execution_count": null,
   "id": "444e17b7-cd14-4a11-a3f2-9b1118738dfa",
   "metadata": {},
   "outputs": [],
   "source": []
  }
 ],
 "metadata": {
  "kernelspec": {
   "display_name": "Python [conda env:base] *",
   "language": "python",
   "name": "conda-base-py"
  },
  "language_info": {
   "codemirror_mode": {
    "name": "ipython",
    "version": 3
   },
   "file_extension": ".py",
   "mimetype": "text/x-python",
   "name": "python",
   "nbconvert_exporter": "python",
   "pygments_lexer": "ipython3",
   "version": "3.12.7"
  }
 },
 "nbformat": 4,
 "nbformat_minor": 5
}
